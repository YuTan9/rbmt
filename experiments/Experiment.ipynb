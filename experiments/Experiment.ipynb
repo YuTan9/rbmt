{
 "cells": [
  {
   "cell_type": "code",
   "execution_count": 2,
   "metadata": {},
   "outputs": [
    {
     "name": "stderr",
     "output_type": "stream",
     "text": [
      "[nltk_data] Downloading package punkt to /home/patrick/nltk_data...\n",
      "[nltk_data]   Package punkt is already up-to-date!\n",
      "[nltk_data] Downloading package averaged_perceptron_tagger to\n",
      "[nltk_data]     /home/patrick/nltk_data...\n",
      "[nltk_data]   Package averaged_perceptron_tagger is already up-to-\n",
      "[nltk_data]       date!\n"
     ]
    },
    {
     "data": {
      "text/plain": [
       "True"
      ]
     },
     "execution_count": 2,
     "metadata": {},
     "output_type": "execute_result"
    }
   ],
   "source": [
    "import nltk\n",
    "nltk.download('punkt')\n",
    "nltk.download('averaged_perceptron_tagger')"
   ]
  },
  {
   "cell_type": "code",
   "execution_count": 146,
   "metadata": {},
   "outputs": [],
   "source": [
    "source = [\"I go to a good school\"]\n",
    "source_grammar_txt = \"\"\"\n",
    "S -> NP VP\n",
    "NP -> PRP\n",
    "VP -> VB PP\n",
    "PP -> PB NP\n",
    "NP -> CD NP1\n",
    "NP1 -> JJ NN\n",
    "PRP -> 'I'\n",
    "VB -> 'go'\n",
    "PB -> 'to'\n",
    "CD -> 'a'\n",
    "JJ -> 'good'\n",
    "NN -> 'school'\n",
    "\"\"\"\n",
    "source_grammar = nltk.CFG.fromstring(source_grammar_txt)\n",
    "parser = nltk.RecursiveDescentParser(source_grammar)\n",
    "\n",
    "target_grammar_substitutions =  {\n",
    "    \"NP1 -> JJ NN\": \"NP1 -> NN JJ\" # in Vietnamese NN goes before JJ\n",
    "}\n",
    "\n",
    "for sub in target_grammar_substitutions:\n",
    "    target_grammar = source_grammar\n",
    "    \n",
    "target = [\"Tôi đi tới một ngôi_trường tốt\"]\n",
    "en_to_vi_dict = {\n",
    "    \"I\":\"tôi\",\n",
    "    \"go\":\"đi\",\n",
    "    \"to\":\"tới\",\n",
    "    \"a\":\"một\",\n",
    "    \"good\":\"tốt\",\n",
    "    \"school\":\"ngôi_trường\",\n",
    "        }\n"
   ]
  },
  {
   "cell_type": "code",
   "execution_count": 225,
   "metadata": {},
   "outputs": [
    {
     "name": "stdout",
     "output_type": "stream",
     "text": [
      "['I', 'go', 'to', 'I']\n",
      "['I', 'go', 'to', 'a', 'good', 'school']\n",
      "['a', 'good', 'school', 'go', 'to', 'I']\n",
      "['a', 'good', 'school', 'go', 'to', 'a', 'good', 'school']\n"
     ]
    }
   ],
   "source": [
    "from nltk.parse.generate import generate,demo_grammar\n",
    "from nltk import CFG\n",
    "import re\n",
    "for sentence in generate(source_grammar,n=100):\n",
    "    print(sentence)"
   ]
  },
  {
   "cell_type": "code",
   "execution_count": 283,
   "metadata": {},
   "outputs": [],
   "source": [
    "def remove_trailing_space(sentence):\n",
    "    return re.sub(' +', ' ', sentence)\n",
    "source_grammar = \"S -> N1 N2 N3\"\n",
    "target_grammar = \"S -> N3 N1 N2\"\n",
    "def calculate_displacement(src_grammar, tgt_grammar):\n",
    "    src_grammar_lst = src_grammar.split()\n",
    "    tgt_grammar_lst = tgt_grammar.split()\n",
    "    \n",
    "    print(src_grammar_lst.index(\"->\"))\n",
    "    src_grammar_lst = src_grammar_lst[src_grammar_lst.index(\"->\")+1:]\n",
    "    tgt_grammar_lst = tgt_grammar_lst[tgt_grammar_lst.index(\"->\")+1:]\n",
    "    displacement = []\n",
    "    for word in tgt_grammar_lst:\n",
    "        displacement.append(src_grammar_lst.index(word))\n",
    "    return displacement"
   ]
  },
  {
   "cell_type": "code",
   "execution_count": 261,
   "metadata": {},
   "outputs": [
    {
     "name": "stdout",
     "output_type": "stream",
     "text": [
      "1\n"
     ]
    },
    {
     "data": {
      "text/plain": [
       "[2, 0, 1]"
      ]
     },
     "execution_count": 261,
     "metadata": {},
     "output_type": "execute_result"
    }
   ],
   "source": [
    "calculate_switch_target(source_grammar,target_grammar)"
   ]
  },
  {
   "cell_type": "code",
   "execution_count": 249,
   "metadata": {},
   "outputs": [
    {
     "data": {
      "text/plain": [
       "1"
      ]
     },
     "execution_count": 249,
     "metadata": {},
     "output_type": "execute_result"
    }
   ],
   "source": [
    "['S', '->', 'N1', 'N2', 'N3'].index(\"->\")"
   ]
  },
  {
   "cell_type": "code",
   "execution_count": 230,
   "metadata": {},
   "outputs": [
    {
     "data": {
      "text/plain": [
       "'what -> ft'"
      ]
     },
     "execution_count": 230,
     "metadata": {},
     "output_type": "execute_result"
    }
   ],
   "source": [
    "remove_trailing_space(\"what ->    ft\")"
   ]
  },
  {
   "cell_type": "code",
   "execution_count": 287,
   "metadata": {},
   "outputs": [
    {
     "name": "stdout",
     "output_type": "stream",
     "text": [
      "1\n",
      "(S\n",
      "  (NP (PRP I))\n",
      "  (VP (VB go) (PP (NP (CD a) (NP1 (JJ good) (NN school))) (PB to))))\n"
     ]
    }
   ],
   "source": [
    "def get_grammar(tree):\n",
    "    grammar = f\"{tree.labels()} ->\"\n",
    "    parent = tree\n",
    "    for sub in subtree[0]:\n",
    "        grammar += f\" {sub.label}\"\n",
    "a = None\n",
    "trees = parser.parse(source[0].split())\n",
    "\n",
    "def swap_tree_given_left(left_tree, displacement):\n",
    "    \"\"\"\n",
    "    swap left node with right node within a parent node\n",
    "    \"\"\"\n",
    "    \n",
    "    nodes = [left_tree]\n",
    "    right_tree = left_tree.right_sibling()\n",
    "    parent_tree = left_tree.parent()\n",
    "    \n",
    "    # Get all tree pointer\n",
    "    for i in range(len(displacement)-1):\n",
    "        nodes.append(right_tree)\n",
    "        \n",
    "    # Remove all siblings and left-most self\n",
    "    for node in nodes:\n",
    "        parent_tree.remove(node)\n",
    "    \n",
    "    # Append with new displacement\n",
    "    for disp in displacement:\n",
    "        parent_tree.append(nodes[disp])\n",
    "        \n",
    "    return parent_tree\n",
    "    \n",
    "tree = tree_to_ptree(tree)\n",
    "\n",
    "def build_grammar_str_from_left_most(tree):\n",
    "    left_label = None\n",
    "    right_label = None\n",
    "    left_pt = tree.left_sibling()\n",
    "    right_pt = tree.right_sibling()\n",
    "    parent_pt = tree.parent()\n",
    "    grammar_str = None\n",
    "\n",
    "    if parent_pt != None:\n",
    "        grammar_str = f\"{parent_pt.label()} -> {tree.label()}\"\n",
    "\n",
    "        # Build grammar from leftmost node in the subtree\n",
    "        if left_pt == None and right_pt != None :\n",
    "            while right_pt != None:\n",
    "                grammar_str += f\" {right_pt.label()}\"\n",
    "                right_pt = right_pt.right_sibling()\n",
    "    return grammar_str\n",
    "\n",
    "\n",
    "def translate(tree)\n",
    "for tree in trees:\n",
    "    ptree = tree_to_ptree(tree)\n",
    "    for sub in ptree.subtrees():\n",
    "        grammar_str = build_grammar_str_from_left_most(sub)\n",
    "        if grammar_str == \"NP1 -> JJ NN\":\n",
    "            disp = calculate_displacement(grammar_str,\"NP1 -> NN JJ\")\n",
    "            swap_tree_given_left(sub,disp)\n",
    "        if grammar_str == \"PP -> PB NP\":\n",
    "            disp = calculate_displacement(grammar_str,\"PP -> NP PB\")\n",
    "            swap_tree_given_left(sub,disp)\n",
    "        \n",
    "    ptree.pprint()\n",
    "                \n",
    "            \n",
    "#         if grammar_str == \"NP1 -> NN JJ\":\n",
    "            \n",
    "#         right_pt = sub.right_sibling()\n",
    "#         if right_pt is not None:\n",
    "#             right_label = right_pt.label()\n",
    "#             print(f\"{sub.label()} {right_label}\")\n",
    "\n",
    "        #print(f\"{left_label} {right_label}\")\n",
    "\n"
   ]
  },
  {
   "cell_type": "code",
   "execution_count": 280,
   "metadata": {},
   "outputs": [
    {
     "ename": "AttributeError",
     "evalue": "'ParentedTree' object has no attribute 'flat'",
     "output_type": "error",
     "traceback": [
      "\u001b[0;31m---------------------------------------------------------------------------\u001b[0m",
      "\u001b[0;31mAttributeError\u001b[0m                            Traceback (most recent call last)",
      "\u001b[0;32m<ipython-input-280-56c791227d5a>\u001b[0m in \u001b[0;36m<module>\u001b[0;34m\u001b[0m\n\u001b[0;32m----> 1\u001b[0;31m \u001b[0mptree\u001b[0m\u001b[0;34m.\u001b[0m\u001b[0mflat\u001b[0m\u001b[0;34m(\u001b[0m\u001b[0;34m)\u001b[0m\u001b[0;34m\u001b[0m\u001b[0;34m\u001b[0m\u001b[0m\n\u001b[0m",
      "\u001b[0;31mAttributeError\u001b[0m: 'ParentedTree' object has no attribute 'flat'"
     ]
    }
   ],
   "source": [
    "ptree.flat()"
   ]
  },
  {
   "cell_type": "code",
   "execution_count": 207,
   "metadata": {},
   "outputs": [],
   "source": [
    "for tree in trees:\n",
    "    for sub in tree:\n",
    "        sub.pprint()"
   ]
  },
  {
   "cell_type": "code",
   "execution_count": 191,
   "metadata": {},
   "outputs": [],
   "source": [
    "def tree_to_ptree(tree):\n",
    "    tree_str = tree.__str__()\n",
    "    ptree = ParentedTree.fromstring(tree_str)\n",
    "    return ptree"
   ]
  },
  {
   "cell_type": "code",
   "execution_count": 224,
   "metadata": {},
   "outputs": [
    {
     "data": {
      "text/plain": [
       "['I', 'go', 'to', 'a', 'school', 'good']"
      ]
     },
     "execution_count": 224,
     "metadata": {},
     "output_type": "execute_result"
    }
   ],
   "source": [
    "ptree.leaves()"
   ]
  },
  {
   "cell_type": "code",
   "execution_count": 66,
   "metadata": {},
   "outputs": [
    {
     "data": {
      "text/plain": [
       "<generator object RecursiveDescentParser._parse at 0x7ff4ce313cf0>"
      ]
     },
     "execution_count": 66,
     "metadata": {},
     "output_type": "execute_result"
    }
   ],
   "source": [
    "trees"
   ]
  },
  {
   "cell_type": "code",
   "execution_count": 91,
   "metadata": {},
   "outputs": [
    {
     "name": "stdout",
     "output_type": "stream",
     "text": [
      "None\n",
      "None\n",
      "None\n",
      "(VP barks)\n",
      "(NP The dog)\n",
      "None\n"
     ]
    }
   ],
   "source": [
    "from nltk import ParentedTree as PTree\n",
    "tree = PTree('S', [])\n",
    "np = PTree('NP', ['The', 'dog'])\n",
    "tree.append(np)\n",
    "vp = PTree('VP', ['barks'])\n",
    "tree.append(vp)\n",
    "for sub in tree.subtrees():\n",
    "    print(sub.left_sibling())\n",
    "    print(sub.right_sibling())"
   ]
  },
  {
   "cell_type": "code",
   "execution_count": 178,
   "metadata": {},
   "outputs": [],
   "source": [
    "from nltk import tree\n",
    "dp1 = Tree('dp', [Tree('d', ['the']), Tree('np', ['dog'])])\n",
    "dp2 = Tree('dp', [Tree('d', ['the']), Tree('np', ['cat'])])\n",
    "vp = Tree('vp', [Tree('v', ['chased']), dp2])\n",
    "mtree = tree_to_ptree(Tree('s', [dp1, vp]))"
   ]
  },
  {
   "cell_type": "code",
   "execution_count": 190,
   "metadata": {},
   "outputs": [
    {
     "ename": "TclError",
     "evalue": "no display name and no $DISPLAY environment variable",
     "output_type": "error",
     "traceback": [
      "\u001b[0;31m---------------------------------------------------------------------------\u001b[0m",
      "\u001b[0;31mTclError\u001b[0m                                  Traceback (most recent call last)",
      "\u001b[0;32m/mnt/ai_filestore/home/patrick/app/miniconda3/envs/rbmt/lib/python3.8/site-packages/IPython/core/formatters.py\u001b[0m in \u001b[0;36m__call__\u001b[0;34m(self, obj)\u001b[0m\n\u001b[1;32m    343\u001b[0m             \u001b[0mmethod\u001b[0m \u001b[0;34m=\u001b[0m \u001b[0mget_real_method\u001b[0m\u001b[0;34m(\u001b[0m\u001b[0mobj\u001b[0m\u001b[0;34m,\u001b[0m \u001b[0mself\u001b[0m\u001b[0;34m.\u001b[0m\u001b[0mprint_method\u001b[0m\u001b[0;34m)\u001b[0m\u001b[0;34m\u001b[0m\u001b[0;34m\u001b[0m\u001b[0m\n\u001b[1;32m    344\u001b[0m             \u001b[0;32mif\u001b[0m \u001b[0mmethod\u001b[0m \u001b[0;32mis\u001b[0m \u001b[0;32mnot\u001b[0m \u001b[0;32mNone\u001b[0m\u001b[0;34m:\u001b[0m\u001b[0;34m\u001b[0m\u001b[0;34m\u001b[0m\u001b[0m\n\u001b[0;32m--> 345\u001b[0;31m                 \u001b[0;32mreturn\u001b[0m \u001b[0mmethod\u001b[0m\u001b[0;34m(\u001b[0m\u001b[0;34m)\u001b[0m\u001b[0;34m\u001b[0m\u001b[0;34m\u001b[0m\u001b[0m\n\u001b[0m\u001b[1;32m    346\u001b[0m             \u001b[0;32mreturn\u001b[0m \u001b[0;32mNone\u001b[0m\u001b[0;34m\u001b[0m\u001b[0;34m\u001b[0m\u001b[0m\n\u001b[1;32m    347\u001b[0m         \u001b[0;32melse\u001b[0m\u001b[0;34m:\u001b[0m\u001b[0;34m\u001b[0m\u001b[0;34m\u001b[0m\u001b[0m\n",
      "\u001b[0;32m/mnt/ai_filestore/home/patrick/app/miniconda3/envs/rbmt/lib/python3.8/site-packages/nltk/tree.py\u001b[0m in \u001b[0;36m_repr_png_\u001b[0;34m(self)\u001b[0m\n\u001b[1;32m    782\u001b[0m         \u001b[0;32mfrom\u001b[0m \u001b[0mnltk\u001b[0m\u001b[0;34m.\u001b[0m\u001b[0minternals\u001b[0m \u001b[0;32mimport\u001b[0m \u001b[0mfind_binary\u001b[0m\u001b[0;34m\u001b[0m\u001b[0;34m\u001b[0m\u001b[0m\n\u001b[1;32m    783\u001b[0m \u001b[0;34m\u001b[0m\u001b[0m\n\u001b[0;32m--> 784\u001b[0;31m         \u001b[0m_canvas_frame\u001b[0m \u001b[0;34m=\u001b[0m \u001b[0mCanvasFrame\u001b[0m\u001b[0;34m(\u001b[0m\u001b[0;34m)\u001b[0m\u001b[0;34m\u001b[0m\u001b[0;34m\u001b[0m\u001b[0m\n\u001b[0m\u001b[1;32m    785\u001b[0m         \u001b[0mwidget\u001b[0m \u001b[0;34m=\u001b[0m \u001b[0mtree_to_treesegment\u001b[0m\u001b[0;34m(\u001b[0m\u001b[0m_canvas_frame\u001b[0m\u001b[0;34m.\u001b[0m\u001b[0mcanvas\u001b[0m\u001b[0;34m(\u001b[0m\u001b[0;34m)\u001b[0m\u001b[0;34m,\u001b[0m \u001b[0mself\u001b[0m\u001b[0;34m)\u001b[0m\u001b[0;34m\u001b[0m\u001b[0;34m\u001b[0m\u001b[0m\n\u001b[1;32m    786\u001b[0m         \u001b[0m_canvas_frame\u001b[0m\u001b[0;34m.\u001b[0m\u001b[0madd_widget\u001b[0m\u001b[0;34m(\u001b[0m\u001b[0mwidget\u001b[0m\u001b[0;34m)\u001b[0m\u001b[0;34m\u001b[0m\u001b[0;34m\u001b[0m\u001b[0m\n",
      "\u001b[0;32m/mnt/ai_filestore/home/patrick/app/miniconda3/envs/rbmt/lib/python3.8/site-packages/nltk/draw/util.py\u001b[0m in \u001b[0;36m__init__\u001b[0;34m(self, parent, **kw)\u001b[0m\n\u001b[1;32m   1791\u001b[0m         \u001b[0;31m# If no parent was given, set up a top-level window.\u001b[0m\u001b[0;34m\u001b[0m\u001b[0;34m\u001b[0m\u001b[0;34m\u001b[0m\u001b[0m\n\u001b[1;32m   1792\u001b[0m         \u001b[0;32mif\u001b[0m \u001b[0mparent\u001b[0m \u001b[0;32mis\u001b[0m \u001b[0;32mNone\u001b[0m\u001b[0;34m:\u001b[0m\u001b[0;34m\u001b[0m\u001b[0;34m\u001b[0m\u001b[0m\n\u001b[0;32m-> 1793\u001b[0;31m             \u001b[0mself\u001b[0m\u001b[0;34m.\u001b[0m\u001b[0m_parent\u001b[0m \u001b[0;34m=\u001b[0m \u001b[0mTk\u001b[0m\u001b[0;34m(\u001b[0m\u001b[0;34m)\u001b[0m\u001b[0;34m\u001b[0m\u001b[0;34m\u001b[0m\u001b[0m\n\u001b[0m\u001b[1;32m   1794\u001b[0m             \u001b[0mself\u001b[0m\u001b[0;34m.\u001b[0m\u001b[0m_parent\u001b[0m\u001b[0;34m.\u001b[0m\u001b[0mtitle\u001b[0m\u001b[0;34m(\u001b[0m\u001b[0;34m\"NLTK\"\u001b[0m\u001b[0;34m)\u001b[0m\u001b[0;34m\u001b[0m\u001b[0;34m\u001b[0m\u001b[0m\n\u001b[1;32m   1795\u001b[0m             \u001b[0mself\u001b[0m\u001b[0;34m.\u001b[0m\u001b[0m_parent\u001b[0m\u001b[0;34m.\u001b[0m\u001b[0mbind\u001b[0m\u001b[0;34m(\u001b[0m\u001b[0;34m\"<Control-p>\"\u001b[0m\u001b[0;34m,\u001b[0m \u001b[0;32mlambda\u001b[0m \u001b[0me\u001b[0m\u001b[0;34m:\u001b[0m \u001b[0mself\u001b[0m\u001b[0;34m.\u001b[0m\u001b[0mprint_to_file\u001b[0m\u001b[0;34m(\u001b[0m\u001b[0;34m)\u001b[0m\u001b[0;34m)\u001b[0m\u001b[0;34m\u001b[0m\u001b[0;34m\u001b[0m\u001b[0m\n",
      "\u001b[0;32m/mnt/ai_filestore/home/patrick/app/miniconda3/envs/rbmt/lib/python3.8/tkinter/__init__.py\u001b[0m in \u001b[0;36m__init__\u001b[0;34m(self, screenName, baseName, className, useTk, sync, use)\u001b[0m\n\u001b[1;32m   2259\u001b[0m                 \u001b[0mbaseName\u001b[0m \u001b[0;34m=\u001b[0m \u001b[0mbaseName\u001b[0m \u001b[0;34m+\u001b[0m \u001b[0mext\u001b[0m\u001b[0;34m\u001b[0m\u001b[0;34m\u001b[0m\u001b[0m\n\u001b[1;32m   2260\u001b[0m         \u001b[0minteractive\u001b[0m \u001b[0;34m=\u001b[0m \u001b[0;36m0\u001b[0m\u001b[0;34m\u001b[0m\u001b[0;34m\u001b[0m\u001b[0m\n\u001b[0;32m-> 2261\u001b[0;31m         \u001b[0mself\u001b[0m\u001b[0;34m.\u001b[0m\u001b[0mtk\u001b[0m \u001b[0;34m=\u001b[0m \u001b[0m_tkinter\u001b[0m\u001b[0;34m.\u001b[0m\u001b[0mcreate\u001b[0m\u001b[0;34m(\u001b[0m\u001b[0mscreenName\u001b[0m\u001b[0;34m,\u001b[0m \u001b[0mbaseName\u001b[0m\u001b[0;34m,\u001b[0m \u001b[0mclassName\u001b[0m\u001b[0;34m,\u001b[0m \u001b[0minteractive\u001b[0m\u001b[0;34m,\u001b[0m \u001b[0mwantobjects\u001b[0m\u001b[0;34m,\u001b[0m \u001b[0museTk\u001b[0m\u001b[0;34m,\u001b[0m \u001b[0msync\u001b[0m\u001b[0;34m,\u001b[0m \u001b[0muse\u001b[0m\u001b[0;34m)\u001b[0m\u001b[0;34m\u001b[0m\u001b[0;34m\u001b[0m\u001b[0m\n\u001b[0m\u001b[1;32m   2262\u001b[0m         \u001b[0;32mif\u001b[0m \u001b[0museTk\u001b[0m\u001b[0;34m:\u001b[0m\u001b[0;34m\u001b[0m\u001b[0;34m\u001b[0m\u001b[0m\n\u001b[1;32m   2263\u001b[0m             \u001b[0mself\u001b[0m\u001b[0;34m.\u001b[0m\u001b[0m_loadtk\u001b[0m\u001b[0;34m(\u001b[0m\u001b[0;34m)\u001b[0m\u001b[0;34m\u001b[0m\u001b[0;34m\u001b[0m\u001b[0m\n",
      "\u001b[0;31mTclError\u001b[0m: no display name and no $DISPLAY environment variable"
     ]
    },
    {
     "data": {
      "text/plain": [
       "ParentedTree('np', ['dog'])"
      ]
     },
     "execution_count": 190,
     "metadata": {},
     "output_type": "execute_result"
    }
   ],
   "source": [
    "mtree[0,0]"
   ]
  },
  {
   "cell_type": "code",
   "execution_count": 183,
   "metadata": {},
   "outputs": [
    {
     "name": "stdout",
     "output_type": "stream",
     "text": [
      "(s (dp (d the) (np dog)) (vp (v chased) (dp (d the) (np cat))))\n"
     ]
    }
   ],
   "source": [
    "mtree.pprint()"
   ]
  },
  {
   "cell_type": "code",
   "execution_count": 90,
   "metadata": {},
   "outputs": [
    {
     "ename": "NameError",
     "evalue": "name 'ROOT' is not defined",
     "output_type": "error",
     "traceback": [
      "\u001b[0;31m---------------------------------------------------------------------------\u001b[0m",
      "\u001b[0;31mNameError\u001b[0m                                 Traceback (most recent call last)",
      "\u001b[0;32m<ipython-input-90-b1ce3a8600ea>\u001b[0m in \u001b[0;36m<module>\u001b[0;34m\u001b[0m\n\u001b[1;32m     13\u001b[0m             \u001b[0mprint\u001b[0m\u001b[0;34m(\u001b[0m\u001b[0;34m\"Word:\"\u001b[0m\u001b[0;34m,\u001b[0m \u001b[0mnode\u001b[0m\u001b[0;34m)\u001b[0m\u001b[0;34m\u001b[0m\u001b[0;34m\u001b[0m\u001b[0m\n\u001b[1;32m     14\u001b[0m \u001b[0;34m\u001b[0m\u001b[0m\n\u001b[0;32m---> 15\u001b[0;31m \u001b[0mgetNodes\u001b[0m\u001b[0;34m(\u001b[0m\u001b[0mtree\u001b[0m\u001b[0;34m)\u001b[0m\u001b[0;34m\u001b[0m\u001b[0;34m\u001b[0m\u001b[0m\n\u001b[0m",
      "\u001b[0;32m<ipython-input-90-b1ce3a8600ea>\u001b[0m in \u001b[0;36mgetNodes\u001b[0;34m(parent)\u001b[0m\n\u001b[1;32m      2\u001b[0m     \u001b[0;32mfor\u001b[0m \u001b[0mnode\u001b[0m \u001b[0;32min\u001b[0m \u001b[0mparent\u001b[0m\u001b[0;34m:\u001b[0m\u001b[0;34m\u001b[0m\u001b[0;34m\u001b[0m\u001b[0m\n\u001b[1;32m      3\u001b[0m         \u001b[0;32mif\u001b[0m \u001b[0mtype\u001b[0m\u001b[0;34m(\u001b[0m\u001b[0mnode\u001b[0m\u001b[0;34m)\u001b[0m \u001b[0;32mis\u001b[0m \u001b[0mnltk\u001b[0m\u001b[0;34m.\u001b[0m\u001b[0mTree\u001b[0m\u001b[0;34m:\u001b[0m\u001b[0;34m\u001b[0m\u001b[0;34m\u001b[0m\u001b[0m\n\u001b[0;32m----> 4\u001b[0;31m             \u001b[0;32mif\u001b[0m \u001b[0mnode\u001b[0m\u001b[0;34m.\u001b[0m\u001b[0mlabel\u001b[0m\u001b[0;34m(\u001b[0m\u001b[0;34m)\u001b[0m \u001b[0;34m==\u001b[0m \u001b[0mROOT\u001b[0m\u001b[0;34m:\u001b[0m\u001b[0;34m\u001b[0m\u001b[0;34m\u001b[0m\u001b[0m\n\u001b[0m\u001b[1;32m      5\u001b[0m                 \u001b[0mprint\u001b[0m\u001b[0;34m(\u001b[0m\u001b[0;34m\"======== Sentence =========\"\u001b[0m\u001b[0;34m)\u001b[0m\u001b[0;34m\u001b[0m\u001b[0;34m\u001b[0m\u001b[0m\n\u001b[1;32m      6\u001b[0m                 \u001b[0mprint\u001b[0m\u001b[0;34m(\u001b[0m\u001b[0;34m\"Sentence:\"\u001b[0m\u001b[0;34m,\u001b[0m \u001b[0;34m\" \"\u001b[0m\u001b[0;34m.\u001b[0m\u001b[0mjoin\u001b[0m\u001b[0;34m(\u001b[0m\u001b[0mnode\u001b[0m\u001b[0;34m.\u001b[0m\u001b[0mleaves\u001b[0m\u001b[0;34m(\u001b[0m\u001b[0;34m)\u001b[0m\u001b[0;34m)\u001b[0m\u001b[0;34m)\u001b[0m\u001b[0;34m\u001b[0m\u001b[0;34m\u001b[0m\u001b[0m\n",
      "\u001b[0;31mNameError\u001b[0m: name 'ROOT' is not defined"
     ]
    }
   ],
   "source": [
    "def getNodes(parent):\n",
    "    for node in parent:\n",
    "        if type(node) is nltk.Tree:\n",
    "            if node.label() == ROOT:\n",
    "                print(\"======== Sentence =========\")\n",
    "                print(\"Sentence:\", \" \".join(node.leaves()))\n",
    "            else:\n",
    "                print(\"Label:\"), node.label()\n",
    "                print(\"Leaves:\"), node.leaves()\n",
    "\n",
    "            getNodes(node)\n",
    "        else:\n",
    "            print(\"Word:\", node)\n",
    "\n",
    "getNodes(tree)"
   ]
  },
  {
   "cell_type": "code",
   "execution_count": 71,
   "metadata": {},
   "outputs": [
    {
     "name": "stdout",
     "output_type": "stream",
     "text": [
      "Requirement already up-to-date: nltk in /mnt/ai_filestore/home/patrick/app/miniconda3/envs/rbmt/lib/python3.8/site-packages (3.5)\n",
      "Requirement already satisfied, skipping upgrade: joblib in /mnt/ai_filestore/home/patrick/app/miniconda3/envs/rbmt/lib/python3.8/site-packages (from nltk) (0.16.0)\n",
      "Requirement already satisfied, skipping upgrade: click in /mnt/ai_filestore/home/patrick/app/miniconda3/envs/rbmt/lib/python3.8/site-packages (from nltk) (7.1.2)\n",
      "Requirement already satisfied, skipping upgrade: regex in /mnt/ai_filestore/home/patrick/app/miniconda3/envs/rbmt/lib/python3.8/site-packages (from nltk) (2020.7.14)\n",
      "Requirement already satisfied, skipping upgrade: tqdm in /mnt/ai_filestore/home/patrick/app/miniconda3/envs/rbmt/lib/python3.8/site-packages (from nltk) (4.48.2)\n",
      "Note: you may need to restart the kernel to use updated packages.\n"
     ]
    }
   ],
   "source": [
    "pip install --user -U nltk"
   ]
  },
  {
   "cell_type": "code",
   "execution_count": 48,
   "metadata": {},
   "outputs": [
    {
     "name": "stdout",
     "output_type": "stream",
     "text": [
      "(S (NP The dog))\n"
     ]
    }
   ],
   "source": [
    "print(tree)"
   ]
  },
  {
   "cell_type": "code",
   "execution_count": 77,
   "metadata": {},
   "outputs": [
    {
     "name": "stdout",
     "output_type": "stream",
     "text": [
      "[ParentedTree('NP', [ParentedTree('NNP', [])])]\n"
     ]
    }
   ],
   "source": [
    "from nltk.tree import *\n",
    "\n",
    "np_trees = []\n",
    "\n",
    "def traverse(t):\n",
    "    try:\n",
    "        t.label()\n",
    "    except AttributeError:\n",
    "        return\n",
    "\n",
    "    if t.label() == \"VBZ\":\n",
    "        current = t\n",
    "        while current.parent() is not None:\n",
    "\n",
    "            while current.left_sibling() is not None:\n",
    "\n",
    "                if current.left_sibling().label() == \"NP\":\n",
    "                    np_trees.append(current.left_sibling())\n",
    "\n",
    "                current = current.left_sibling()\n",
    "\n",
    "            current = current.parent()\n",
    "\n",
    "    for child in t:\n",
    "        traverse(child)\n",
    "\n",
    "tree = ParentedTree.fromstring(\"(S (NP (NNP)) (VP (VBZ) (NP (NNP))))\")\n",
    "traverse(tree)\n",
    "print(np_trees) # [ParentedTree('NP', [ParentedTree('NNP', [])])]"
   ]
  },
  {
   "cell_type": "code",
   "execution_count": 83,
   "metadata": {},
   "outputs": [
    {
     "data": {
      "text/plain": [
       "[]"
      ]
     },
     "execution_count": 83,
     "metadata": {},
     "output_type": "execute_result"
    }
   ],
   "source": [
    "tree.label()\n",
    "tree.leaves()"
   ]
  },
  {
   "cell_type": "code",
   "execution_count": 85,
   "metadata": {},
   "outputs": [
    {
     "name": "stdout",
     "output_type": "stream",
     "text": [
      "(S (NP (NNP )) (VP (VBZ ) (NP (NNP ))))\n"
     ]
    }
   ],
   "source": [
    "tree.pprint()"
   ]
  },
  {
   "cell_type": "code",
   "execution_count": null,
   "metadata": {},
   "outputs": [],
   "source": []
  }
 ],
 "metadata": {
  "kernelspec": {
   "display_name": "Python 3",
   "language": "python",
   "name": "python3"
  },
  "language_info": {
   "codemirror_mode": {
    "name": "ipython",
    "version": 3
   },
   "file_extension": ".py",
   "mimetype": "text/x-python",
   "name": "python",
   "nbconvert_exporter": "python",
   "pygments_lexer": "ipython3",
   "version": "3.8.5"
  }
 },
 "nbformat": 4,
 "nbformat_minor": 4
}
